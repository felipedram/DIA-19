{
 "cells": [
  {
   "cell_type": "markdown",
   "metadata": {
    "colab_type": "text",
    "id": "PkAu8VBdDvar"
   },
   "source": [
    "# Nearest Neighbors Classification\n",
    "\n",
    "Este trabalho se utiliza de uma implementação comercial do KNN, feita pela biblioteca SciKit-Learn, para classificar os sensores de detecção da bactéria E-Coli, desenvolvidos pelo grupo de pesquisa do Programa de Pós-Graduação em Física da UFMG, conforme sua etapa de fabricação, dado uma curva de tensão de entrada e suas respectivas medidas de tensão de saída."
   ]
  },
  {
   "cell_type": "markdown",
   "metadata": {},
   "source": [
    "## Importação das bibliotecas"
   ]
  },
  {
   "cell_type": "code",
   "execution_count": 0,
   "metadata": {
    "colab": {},
    "colab_type": "code",
    "id": "QgMmFTfiDgyt",
    "pycharm": {
     "is_executing": false
    }
   },
   "outputs": [],
   "source": [
    "import numpy as np\n",
    "import pandas as pd\n",
    "from sklearn import neighbors, metrics\n",
    "from sklearn.model_selection import train_test_split"
   ]
  },
  {
   "cell_type": "markdown",
   "metadata": {
    "colab_type": "text",
    "id": "e59Z9dqTF1_Q"
   },
   "source": [
    "## Leitura do dataset"
   ]
  },
  {
   "cell_type": "code",
   "execution_count": null,
   "metadata": {
    "colab": {},
    "colab_type": "code",
    "id": "lOw037mQDgyz",
    "outputId": "b48ada6e-4ff6-4fa3-fb65-8f8f2166fc4e",
    "pycharm": {
     "is_executing": false,
     "name": "#%%\n"
    }
   },
   "outputs": [],
   "source": [
    "N_NEIGHBORS = 15\n",
    "\n",
    "df = pd.read_csv('all_treated.csv', sep=';')\n",
    "\n",
    "X = []\n",
    "Y = []\n",
    "\n",
    "for label in df['label'].unique():\n",
    "    for sample in df['amostra'].unique():\n",
    "        x = np.reshape(\n",
    "            df.loc[\n",
    "                (df['label'] == label) & (df['amostra'] == sample),\n",
    "                ['v_gate', 'resist']\n",
    "            ].values,\n",
    "            -1\n",
    "        )\n",
    "        y = label\n",
    "\n",
    "        if len(x) == 140:\n",
    "            X.append(x)\n",
    "            Y.append(y)\n",
    "\n",
    "X = np.vstack(X)\n",
    "Y = np.array(Y)"
   ]
  },
  {
   "cell_type": "markdown",
   "metadata": {},
   "source": [
    "## Separação dos dados em conjuntos de treinamento e de teste"
   ]
  },
  {
   "cell_type": "code",
   "execution_count": null,
   "metadata": {
    "colab": {},
    "colab_type": "code",
    "id": "lOw037mQDgyz",
    "outputId": "b48ada6e-4ff6-4fa3-fb65-8f8f2166fc4e",
    "pycharm": {
     "is_executing": false,
     "name": "#%%\n"
    }
   },
   "outputs": [],
   "source": [
    "x_train, x_test, y_train, y_test = train_test_split(X, Y, test_size=0.2)"
   ]
  },
  {
   "cell_type": "markdown",
   "metadata": {},
   "source": [
    "## Construção do classificador"
   ]
  },
  {
   "cell_type": "code",
   "execution_count": 0,
   "metadata": {
    "colab": {},
    "colab_type": "code",
    "id": "lOw037mQDgyz",
    "outputId": "b48ada6e-4ff6-4fa3-fb65-8f8f2166fc4e",
    "pycharm": {
     "is_executing": false,
     "name": "#%%\n"
    }
   },
   "outputs": [
    {
     "data": {
      "text/plain": [
       "KNeighborsClassifier(algorithm='auto', leaf_size=30, metric='minkowski',\n",
       "                     metric_params=None, n_jobs=None, n_neighbors=15, p=2,\n",
       "                     weights='distance')"
      ]
     },
     "execution_count": 2,
     "metadata": {
      "tags": []
     },
     "output_type": "execute_result"
    }
   ],
   "source": [
    "clf = neighbors.KNeighborsClassifier(\n",
    "    N_NEIGHBORS,\n",
    "    weights='distance',\n",
    "    algorithm='auto'\n",
    ")\n",
    "\n",
    "clf.fit(x_train, y_train)"
   ]
  },
  {
   "cell_type": "markdown",
   "metadata": {},
   "source": [
    "## Apuração das métricas"
   ]
  },
  {
   "cell_type": "code",
   "execution_count": 0,
   "metadata": {
    "colab": {},
    "colab_type": "code",
    "id": "LCRkQk5qDgy-",
    "outputId": "90249620-8f21-43ee-946c-b6d7643a1921",
    "pycharm": {
     "is_executing": false,
     "name": "#%%\n"
    }
   },
   "outputs": [
    {
     "name": "stdout",
     "output_type": "stream",
     "text": [
      "0.7471264367816092\n",
      "              precision    recall  f1-score   support\n",
      "\n",
      "       Limpo       0.94      0.98      0.96        59\n",
      "       Ácido       0.68      0.62      0.65        61\n",
      "    Molécula       0.61      0.63      0.62        54\n",
      "\n",
      "    accuracy                           0.75       174\n",
      "   macro avg       0.74      0.75      0.74       174\n",
      "weighted avg       0.74      0.75      0.74       174\n",
      "\n"
     ]
    }
   ],
   "source": [
    "y_true, y_pred = y_test, clf.predict(x_test)\n",
    "target_names = ['Limpo', 'Ácido', 'Molécula']\n",
    "print(metrics.accuracy_score(y_true, y_pred))\n",
    "print(metrics.classification_report(y_true, y_pred, target_names=target_names))"
   ]
  }
 ],
 "metadata": {
  "colab": {
   "collapsed_sections": [],
   "name": "data_analysis_knn.ipynb",
   "provenance": []
  },
  "kernelspec": {
   "display_name": "Python 3",
   "language": "python",
   "name": "python3"
  },
  "language_info": {
   "codemirror_mode": {
    "name": "ipython",
    "version": 3
   },
   "file_extension": ".py",
   "mimetype": "text/x-python",
   "name": "python",
   "nbconvert_exporter": "python",
   "pygments_lexer": "ipython3",
   "version": "3.6.8"
  },
  "pycharm": {
   "stem_cell": {
    "cell_type": "raw",
    "metadata": {
     "collapsed": false
    },
    "source": []
   }
  }
 },
 "nbformat": 4,
 "nbformat_minor": 1
}
