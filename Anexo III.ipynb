{
 "cells": [
  {
   "cell_type": "markdown",
   "metadata": {},
   "source": [
    "# Implementação Ad-hoc do algoritmo KNN, utilizando medidas de similaridade entre curvas"
   ]
  },
  {
   "cell_type": "markdown",
   "metadata": {},
   "source": [
    "Este notebook apresenta uma implementação ad-hoc do KNN, utilizando as medidas de similaridade entre curvas DTW e Distância de Fréchet como métrica as  para classificar os sensores de detecção da bactéria E-Coli, desenvolvidos pelo grupo de pesquisa do Programa de Pós-Graduação em Física da UFMG, conforme sua etapa de fabricação, dado uma curva de tensão de entrada e suas respectivas medidas de tensão de saída."
   ]
  },
  {
   "cell_type": "markdown",
   "metadata": {},
   "source": [
    "## Importação das bibliotecas"
   ]
  },
  {
   "cell_type": "code",
   "execution_count": 1,
   "metadata": {
    "pycharm": {
     "is_executing": false,
     "name": "#%%\n"
    }
   },
   "outputs": [],
   "source": [
    "import pandas as pd\n",
    "import numpy as np\n",
    "import similaritymeasures\n",
    "from sklearn import metrics\n",
    "from sklearn.model_selection import train_test_split\n",
    "from scipy import stats"
   ]
  },
  {
   "cell_type": "markdown",
   "metadata": {},
   "source": [
    "## Leitura dos dados"
   ]
  },
  {
   "cell_type": "code",
   "execution_count": 2,
   "metadata": {
    "pycharm": {
     "is_executing": false,
     "name": "#%%\n"
    }
   },
   "outputs": [],
   "source": [
    "def load_dataset(df: pd.DataFrame, test_size: float = 0.2):\n",
    "    X = []\n",
    "    Y = []\n",
    "\n",
    "    for label in df['label'].unique():\n",
    "        for sample in df['amostra'].unique():\n",
    "            x = df.loc[\n",
    "                (df['label'] == label) & (df['amostra'] == sample),\n",
    "                ['v_gate', 'resist']\n",
    "            ].values\n",
    "            if len(x) > 0:\n",
    "                X.append(x)\n",
    "                Y.append(label)\n",
    "\n",
    "    return train_test_split(X, Y, test_size=test_size)\n"
   ]
  },
  {
   "cell_type": "markdown",
   "metadata": {},
   "source": [
    "## Implementação"
   ]
  },
  {
   "cell_type": "code",
   "execution_count": 3,
   "metadata": {
    "pycharm": {
     "is_executing": false,
     "name": "#%%\n"
    }
   },
   "outputs": [],
   "source": [
    "class KnnForTimeSeries(object):\n",
    "    def __init__(self, training_set, training_labels, k=7, metric='dtw'):\n",
    "        self._training_labels = training_labels\n",
    "        self._training_set = training_set\n",
    "        self._k = k\n",
    "        self._metric = metric\n",
    "\n",
    "    def _get_neighbors(self, test_instance):\n",
    "        distances = []\n",
    "        if self._metric == 'dtw':\n",
    "            for x in self._training_set:\n",
    "                distances.append(similaritymeasures.dtw(x, test_instance)[0])\n",
    "        elif self._metric == 'frechet':\n",
    "            for x in self._training_set:\n",
    "                distances.append(similaritymeasures.frechet_dist(x, test_instance))\n",
    "\n",
    "        neighbors = list(zip(distances, self._training_labels))\n",
    "        neighbors.sort(key=lambda tup: tup[0])\n",
    "        return neighbors[:self._k]\n",
    "\n",
    "    def predict_one(self, test_instance):\n",
    "        k_nearest = np.vstack(self._get_neighbors(test_instance))\n",
    "        return stats.mode(k_nearest[:, 1])[0]\n",
    "\n",
    "    def predict(self, test_set):\n",
    "        return [self.predict_one(x) for x in test_set]"
   ]
  },
  {
   "cell_type": "markdown",
   "metadata": {},
   "source": [
    "## Leitura dos dados"
   ]
  },
  {
   "cell_type": "code",
   "execution_count": 4,
   "metadata": {
    "pycharm": {
     "is_executing": false
    }
   },
   "outputs": [],
   "source": [
    "split = 0.2\n",
    "x_train, x_test, y_train, y_test = load_dataset(\n",
    "    pd.read_csv('all_treated.csv', sep=';'),\n",
    "    split\n",
    ")"
   ]
  },
  {
   "cell_type": "markdown",
   "metadata": {},
   "source": [
    "## Treinamento e apuração dos resultados, utilizando DTW"
   ]
  },
  {
   "cell_type": "code",
   "execution_count": 5,
   "metadata": {
    "pycharm": {
     "is_executing": false,
     "name": "#%%\n"
    }
   },
   "outputs": [
    {
     "name": "stdout",
     "output_type": "stream",
     "text": [
      "0.5919540229885057\n",
      "              precision    recall  f1-score   support\n",
      "\n",
      "       Limpo       0.59      0.84      0.70        45\n",
      "       Ácido       0.66      0.47      0.55        70\n",
      "    Molécula       0.53      0.54      0.54        59\n",
      "\n",
      "    accuracy                           0.59       174\n",
      "   macro avg       0.60      0.62      0.60       174\n",
      "weighted avg       0.60      0.59      0.58       174\n",
      "\n"
     ]
    }
   ],
   "source": [
    "classifier = KnnForTimeSeries(x_train, y_train)\n",
    "y_true, y_pred = y_test, classifier.predict(x_test)\n",
    "\n",
    "target_names = ['Limpo', 'Ácido', 'Molécula']\n",
    "\n",
    "print(metrics.accuracy_score(y_true, y_pred))\n",
    "print(metrics.classification_report(y_true, y_pred, target_names=target_names))"
   ]
  },
  {
   "cell_type": "markdown",
   "metadata": {},
   "source": [
    "## Treinamento e apuração dos resultadosm, utilizando Fréchet"
   ]
  },
  {
   "cell_type": "code",
   "execution_count": null,
   "metadata": {
    "pycharm": {
     "is_executing": false,
     "name": "#%%\n"
    }
   },
   "outputs": [],
   "source": [
    "classifier_frechet = KnnForTimeSeries(x_train, y_train, metric='frechet')\n",
    "y_true, y_pred = y_test, classifier_frechet.predict(x_test)"
   ]
  },
  {
   "cell_type": "code",
   "execution_count": 7,
   "metadata": {
    "pycharm": {
     "is_executing": false,
     "name": "#%%\n"
    }
   },
   "outputs": [
    {
     "name": "stdout",
     "output_type": "stream",
     "text": [
      "0.5344827586206896\n",
      "              precision    recall  f1-score   support\n",
      "\n",
      "       Limpo       0.50      0.78      0.61        45\n",
      "       Ácido       0.65      0.40      0.50        70\n",
      "    Molécula       0.49      0.51      0.50        59\n",
      "\n",
      "    accuracy                           0.53       174\n",
      "   macro avg       0.55      0.56      0.53       174\n",
      "weighted avg       0.56      0.53      0.53       174\n",
      "\n"
     ]
    }
   ],
   "source": [
    "print(metrics.accuracy_score(y_true, y_pred))\n",
    "print(metrics.classification_report(y_true, y_pred, target_names=target_names))"
   ]
  },
  {
   "cell_type": "code",
   "execution_count": null,
   "metadata": {},
   "outputs": [],
   "source": []
  }
 ],
 "metadata": {
  "kernelspec": {
   "display_name": "Python 3",
   "language": "python",
   "name": "python3"
  },
  "language_info": {
   "codemirror_mode": {
    "name": "ipython",
    "version": 3
   },
   "file_extension": ".py",
   "mimetype": "text/x-python",
   "name": "python",
   "nbconvert_exporter": "python",
   "pygments_lexer": "ipython3",
   "version": "3.6.8"
  },
  "pycharm": {
   "stem_cell": {
    "cell_type": "raw",
    "metadata": {
     "collapsed": false
    },
    "source": []
   }
  }
 },
 "nbformat": 4,
 "nbformat_minor": 1
}
